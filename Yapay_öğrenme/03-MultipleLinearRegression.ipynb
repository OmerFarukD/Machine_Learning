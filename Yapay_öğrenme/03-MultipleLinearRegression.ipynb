{
 "cells": [
  {
   "cell_type": "code",
   "execution_count": 1,
   "id": "dc7b0ef7",
   "metadata": {},
   "outputs": [],
   "source": [
    "import pandas as pd\n",
    "import numpy as np\n",
    "import matplotlib.pyplot as plt\n",
    "import seaborn as sns\n",
    "from sklearn.model_selection import train_test_split\n",
    "from sklearn.linear_model import LinearRegression\n",
    "from sklearn.preprocessing import StandardScaler\n",
    "plt.style.use(\"seaborn-darkgrid\")\n",
    "%matplotlib inline"
   ]
  },
  {
   "cell_type": "code",
   "execution_count": 2,
   "id": "72702801",
   "metadata": {},
   "outputs": [],
   "source": [
    "veri=pd.read_csv(\"/data/51_Startups.csv\")"
   ]
  },
  {
   "cell_type": "code",
   "execution_count": 3,
   "id": "b4ffe230",
   "metadata": {},
   "outputs": [
    {
     "data": {
      "text/html": [
       "<div>\n",
       "<style scoped>\n",
       "    .dataframe tbody tr th:only-of-type {\n",
       "        vertical-align: middle;\n",
       "    }\n",
       "\n",
       "    .dataframe tbody tr th {\n",
       "        vertical-align: top;\n",
       "    }\n",
       "\n",
       "    .dataframe thead th {\n",
       "        text-align: right;\n",
       "    }\n",
       "</style>\n",
       "<table border=\"1\" class=\"dataframe\">\n",
       "  <thead>\n",
       "    <tr style=\"text-align: right;\">\n",
       "      <th></th>\n",
       "      <th>R&amp;D Spend</th>\n",
       "      <th>Administration</th>\n",
       "      <th>Marketing Spend</th>\n",
       "      <th>State</th>\n",
       "      <th>Profit</th>\n",
       "    </tr>\n",
       "  </thead>\n",
       "  <tbody>\n",
       "    <tr>\n",
       "      <th>0</th>\n",
       "      <td>165349.20</td>\n",
       "      <td>136897.80</td>\n",
       "      <td>471784.10</td>\n",
       "      <td>New York</td>\n",
       "      <td>192261.83</td>\n",
       "    </tr>\n",
       "    <tr>\n",
       "      <th>1</th>\n",
       "      <td>162597.70</td>\n",
       "      <td>151377.59</td>\n",
       "      <td>443898.53</td>\n",
       "      <td>California</td>\n",
       "      <td>191792.06</td>\n",
       "    </tr>\n",
       "    <tr>\n",
       "      <th>2</th>\n",
       "      <td>153441.51</td>\n",
       "      <td>101145.55</td>\n",
       "      <td>407934.54</td>\n",
       "      <td>Florida</td>\n",
       "      <td>191050.39</td>\n",
       "    </tr>\n",
       "    <tr>\n",
       "      <th>3</th>\n",
       "      <td>144372.41</td>\n",
       "      <td>118671.85</td>\n",
       "      <td>383199.62</td>\n",
       "      <td>New York</td>\n",
       "      <td>182901.99</td>\n",
       "    </tr>\n",
       "    <tr>\n",
       "      <th>4</th>\n",
       "      <td>142107.34</td>\n",
       "      <td>91391.77</td>\n",
       "      <td>366168.42</td>\n",
       "      <td>Florida</td>\n",
       "      <td>166187.94</td>\n",
       "    </tr>\n",
       "    <tr>\n",
       "      <th>5</th>\n",
       "      <td>131876.90</td>\n",
       "      <td>99814.71</td>\n",
       "      <td>362861.36</td>\n",
       "      <td>New York</td>\n",
       "      <td>156991.12</td>\n",
       "    </tr>\n",
       "    <tr>\n",
       "      <th>6</th>\n",
       "      <td>134615.46</td>\n",
       "      <td>147198.87</td>\n",
       "      <td>127716.82</td>\n",
       "      <td>California</td>\n",
       "      <td>156122.51</td>\n",
       "    </tr>\n",
       "    <tr>\n",
       "      <th>7</th>\n",
       "      <td>130298.13</td>\n",
       "      <td>145530.06</td>\n",
       "      <td>323876.68</td>\n",
       "      <td>Florida</td>\n",
       "      <td>155752.60</td>\n",
       "    </tr>\n",
       "    <tr>\n",
       "      <th>8</th>\n",
       "      <td>120542.52</td>\n",
       "      <td>148718.95</td>\n",
       "      <td>311613.29</td>\n",
       "      <td>New York</td>\n",
       "      <td>152211.77</td>\n",
       "    </tr>\n",
       "    <tr>\n",
       "      <th>9</th>\n",
       "      <td>123334.88</td>\n",
       "      <td>108679.17</td>\n",
       "      <td>304981.62</td>\n",
       "      <td>California</td>\n",
       "      <td>149759.96</td>\n",
       "    </tr>\n",
       "  </tbody>\n",
       "</table>\n",
       "</div>"
      ],
      "text/plain": [
       "   R&D Spend  Administration  Marketing Spend       State     Profit\n",
       "0  165349.20       136897.80        471784.10    New York  192261.83\n",
       "1  162597.70       151377.59        443898.53  California  191792.06\n",
       "2  153441.51       101145.55        407934.54     Florida  191050.39\n",
       "3  144372.41       118671.85        383199.62    New York  182901.99\n",
       "4  142107.34        91391.77        366168.42     Florida  166187.94\n",
       "5  131876.90        99814.71        362861.36    New York  156991.12\n",
       "6  134615.46       147198.87        127716.82  California  156122.51\n",
       "7  130298.13       145530.06        323876.68     Florida  155752.60\n",
       "8  120542.52       148718.95        311613.29    New York  152211.77\n",
       "9  123334.88       108679.17        304981.62  California  149759.96"
      ]
     },
     "execution_count": 3,
     "metadata": {},
     "output_type": "execute_result"
    }
   ],
   "source": [
    "veri.head(10)"
   ]
  },
  {
   "cell_type": "code",
   "execution_count": 4,
   "id": "21d7cee9",
   "metadata": {},
   "outputs": [],
   "source": [
    "veri=veri.drop(\"State\",axis=True)"
   ]
  },
  {
   "cell_type": "code",
   "execution_count": 5,
   "id": "5eb4ee27",
   "metadata": {},
   "outputs": [
    {
     "data": {
      "text/plain": [
       "<AxesSubplot:>"
      ]
     },
     "execution_count": 5,
     "metadata": {},
     "output_type": "execute_result"
    },
    {
     "data": {
      "image/png": "[encoded data removed]",
      "text/plain": [
       "<Figure size 432x288 with 2 Axes>"
      ]
     },
     "metadata": {
      "needs_background": "light"
     },
     "output_type": "display_data"
    }
   ],
   "source": [
    "corr=veri.corr()\n",
    "sns.heatmap(corr,annot=True)"
   ]
  },
  {
   "cell_type": "code",
   "execution_count": 6,
   "id": "8930c009",
   "metadata": {},
   "outputs": [],
   "source": [
    "X=veri.drop(\"Profit\",axis=1)\n",
    "y=veri[\"Profit\"]"
   ]
  },
  {
   "cell_type": "code",
   "execution_count": 7,
   "id": "6ba2cc01",
   "metadata": {},
   "outputs": [
    {
     "data": {
      "text/html": [
       "<div>\n",
       "<style scoped>\n",
       "    .dataframe tbody tr th:only-of-type {\n",
       "        vertical-align: middle;\n",
       "    }\n",
       "\n",
       "    .dataframe tbody tr th {\n",
       "        vertical-align: top;\n",
       "    }\n",
       "\n",
       "    .dataframe thead th {\n",
       "        text-align: right;\n",
       "    }\n",
       "</style>\n",
       "<table border=\"1\" class=\"dataframe\">\n",
       "  <thead>\n",
       "    <tr style=\"text-align: right;\">\n",
       "      <th></th>\n",
       "      <th>R&amp;D Spend</th>\n",
       "      <th>Administration</th>\n",
       "      <th>Marketing Spend</th>\n",
       "    </tr>\n",
       "  </thead>\n",
       "  <tbody>\n",
       "    <tr>\n",
       "      <th>0</th>\n",
       "      <td>165349.20</td>\n",
       "      <td>136897.80</td>\n",
       "      <td>471784.10</td>\n",
       "    </tr>\n",
       "    <tr>\n",
       "      <th>1</th>\n",
       "      <td>162597.70</td>\n",
       "      <td>151377.59</td>\n",
       "      <td>443898.53</td>\n",
       "    </tr>\n",
       "    <tr>\n",
       "      <th>2</th>\n",
       "      <td>153441.51</td>\n",
       "      <td>101145.55</td>\n",
       "      <td>407934.54</td>\n",
       "    </tr>\n",
       "    <tr>\n",
       "      <th>3</th>\n",
       "      <td>144372.41</td>\n",
       "      <td>118671.85</td>\n",
       "      <td>383199.62</td>\n",
       "    </tr>\n",
       "    <tr>\n",
       "      <th>4</th>\n",
       "      <td>142107.34</td>\n",
       "      <td>91391.77</td>\n",
       "      <td>366168.42</td>\n",
       "    </tr>\n",
       "    <tr>\n",
       "      <th>5</th>\n",
       "      <td>131876.90</td>\n",
       "      <td>99814.71</td>\n",
       "      <td>362861.36</td>\n",
       "    </tr>\n",
       "    <tr>\n",
       "      <th>6</th>\n",
       "      <td>134615.46</td>\n",
       "      <td>147198.87</td>\n",
       "      <td>127716.82</td>\n",
       "    </tr>\n",
       "    <tr>\n",
       "      <th>7</th>\n",
       "      <td>130298.13</td>\n",
       "      <td>145530.06</td>\n",
       "      <td>323876.68</td>\n",
       "    </tr>\n",
       "    <tr>\n",
       "      <th>8</th>\n",
       "      <td>120542.52</td>\n",
       "      <td>148718.95</td>\n",
       "      <td>311613.29</td>\n",
       "    </tr>\n",
       "  </tbody>\n",
       "</table>\n",
       "</div>"
      ],
      "text/plain": [
       "   R&D Spend  Administration  Marketing Spend\n",
       "0  165349.20       136897.80        471784.10\n",
       "1  162597.70       151377.59        443898.53\n",
       "2  153441.51       101145.55        407934.54\n",
       "3  144372.41       118671.85        383199.62\n",
       "4  142107.34        91391.77        366168.42\n",
       "5  131876.90        99814.71        362861.36\n",
       "6  134615.46       147198.87        127716.82\n",
       "7  130298.13       145530.06        323876.68\n",
       "8  120542.52       148718.95        311613.29"
      ]
     },
     "execution_count": 7,
     "metadata": {},
     "output_type": "execute_result"
    }
   ],
   "source": [
    "X.head(9)"
   ]
  },
  {
   "cell_type": "code",
   "execution_count": 8,
   "id": "50daba26",
   "metadata": {},
   "outputs": [],
   "source": [
    "X_train,X_test,y_train,y_test=train_test_split(X,y, test_size=0.2, random_state=0)"
   ]
  },
  {
   "cell_type": "code",
   "execution_count": 9,
   "id": "ffe0d62e",
   "metadata": {},
   "outputs": [
    {
     "data": {
      "text/plain": [
       "array([[ 2.01641149e+00,  5.60752915e-01,  2.15394309e+00],\n",
       "       [ 1.95586034e+00,  1.08280658e+00,  1.92360040e+00],\n",
       "       [ 1.75436374e+00, -7.28257028e-01,  1.62652767e+00],\n",
       "       [ 1.55478369e+00, -9.63646307e-02,  1.42221024e+00],\n",
       "       [ 1.50493720e+00, -1.07991935e+00,  1.28152771e+00],\n",
       "       [ 1.27980001e+00, -7.76239071e-01,  1.25421046e+00],\n",
       "       [ 1.34006641e+00,  9.32147208e-01, -6.88149930e-01],\n",
       "       [ 1.24505666e+00,  8.71980011e-01,  9.32185978e-01],\n",
       "       [ 1.03036886e+00,  9.86952101e-01,  8.30886909e-01],\n",
       "       [ 1.09181921e+00, -4.56640246e-01,  7.76107440e-01],\n",
       "       [ 6.20398248e-01, -3.87599089e-01,  1.49807267e-01],\n",
       "       [ 5.93085418e-01, -1.06553960e+00,  3.19833623e-01],\n",
       "       [ 4.43259872e-01,  2.15449064e-01,  3.20617441e-01],\n",
       "       [ 4.02077603e-01,  5.10178953e-01,  3.43956788e-01],\n",
       "       [ 1.01718075e+00,  1.26919939e+00,  3.75742273e-01],\n",
       "       [ 8.97913123e-01,  4.58678535e-02,  4.19218702e-01],\n",
       "       [ 9.44411957e-02,  9.11841968e-03,  4.40446224e-01],\n",
       "       [ 4.60720127e-01,  8.55666318e-01,  5.91016724e-01],\n",
       "       [ 3.96724938e-01, -2.58465367e-01,  6.92992062e-01],\n",
       "       [ 2.79441650e-01,  1.15983657e+00, -1.74312698e+00],\n",
       "       [ 5.57260867e-02, -2.69587651e-01,  7.23925995e-01],\n",
       "       [ 1.02723599e-01,  1.16918609e+00,  7.32787791e-01],\n",
       "       [ 6.00657792e-03,  5.18495648e-02,  7.62375876e-01],\n",
       "       [-1.36200724e-01, -5.62211268e-01,  7.74348908e-01],\n",
       "       [ 7.31146008e-02, -7.95469167e-01, -5.81939297e-01],\n",
       "       [-1.99311688e-01,  6.56489139e-01, -6.03516725e-01],\n",
       "       [ 3.53702028e-02,  8.21717916e-01, -6.35835495e-01],\n",
       "       [-3.55189938e-02,  2.35068543e-01,  1.17427116e+00],\n",
       "       [-1.68792717e-01,  2.21014050e+00, -7.67189437e-01],\n",
       "       [-1.78608540e-01,  1.14245677e+00, -8.58133663e-01],\n",
       "       [-2.58074369e-01, -2.05628659e-01, -9.90357166e-01],\n",
       "       [-2.76958231e-01,  1.13055391e+00, -1.01441945e+00],\n",
       "       [-2.26948675e-01,  2.83923813e-01, -1.36244978e+00],\n",
       "       [-4.01128925e-01, -6.59324033e-01,  2.98172434e-02],\n",
       "       [-6.00682122e-01,  1.31053525e+00, -1.87861793e-03],\n",
       "       [-6.09749941e-01, -1.30865753e+00, -4.54931587e-02],\n",
       "       [-9.91570153e-01,  2.05924691e-01, -8.17625734e-02],\n",
       "       [-6.52532310e-01, -2.52599402e+00, -1.15608256e-01],\n",
       "       [-1.17717755e+00, -1.99727037e+00, -2.12784866e-01],\n",
       "       [-7.73820359e-01, -1.38312156e+00, -2.97583276e-01],\n",
       "       [-9.89577015e-01, -1.00900218e-01, -3.15785883e-01],\n",
       "       [-1.00853372e+00, -1.32079581e+00, -3.84552407e-01],\n",
       "       [-1.10210556e+00, -9.06937535e-01, -5.20595959e-01],\n",
       "       [-1.28113364e+00,  2.17681524e-01, -1.44960468e+00],\n",
       "       [-1.13430539e+00,  1.20641936e+00, -1.50907418e+00],\n",
       "       [-1.60035036e+00,  1.01253936e-01, -1.72739998e+00],\n",
       "       [-1.59341322e+00, -1.99321741e-01,  7.11122474e-01],\n",
       "       [-1.62236202e+00,  5.07721876e-01, -1.74312698e+00],\n",
       "       [-1.61043334e+00, -2.50940884e+00, -1.74312698e+00],\n",
       "       [-1.62236202e+00, -1.57225506e-01, -1.36998473e+00]])"
      ]
     },
     "execution_count": 9,
     "metadata": {},
     "output_type": "execute_result"
    }
   ],
   "source": [
    "scaler=StandardScaler()\n",
    "X= scaler.fit_transform(X)\n",
    "X"
   ]
  },
  {
   "cell_type": "code",
   "execution_count": 10,
   "id": "3a9af79c",
   "metadata": {},
   "outputs": [
    {
     "data": {
      "text/plain": [
       "LinearRegression()"
      ]
     },
     "execution_count": 10,
     "metadata": {},
     "output_type": "execute_result"
    }
   ],
   "source": [
    "regressor=LinearRegression()\n",
    "regressor.fit(X_train,y_train)"
   ]
  },
  {
   "cell_type": "code",
   "execution_count": 11,
   "id": "2c57536a",
   "metadata": {},
   "outputs": [
    {
     "data": {
      "text/html": [
       "<div>\n",
       "<style scoped>\n",
       "    .dataframe tbody tr th:only-of-type {\n",
       "        vertical-align: middle;\n",
       "    }\n",
       "\n",
       "    .dataframe tbody tr th {\n",
       "        vertical-align: top;\n",
       "    }\n",
       "\n",
       "    .dataframe thead th {\n",
       "        text-align: right;\n",
       "    }\n",
       "</style>\n",
       "<table border=\"1\" class=\"dataframe\">\n",
       "  <thead>\n",
       "    <tr style=\"text-align: right;\">\n",
       "      <th></th>\n",
       "      <th>Original Profit</th>\n",
       "      <th>Predict Profit</th>\n",
       "    </tr>\n",
       "  </thead>\n",
       "  <tbody>\n",
       "    <tr>\n",
       "      <th>0</th>\n",
       "      <td>103282.38</td>\n",
       "      <td>103901.9</td>\n",
       "    </tr>\n",
       "    <tr>\n",
       "      <th>1</th>\n",
       "      <td>144259.40</td>\n",
       "      <td>132763.1</td>\n",
       "    </tr>\n",
       "    <tr>\n",
       "      <th>2</th>\n",
       "      <td>146121.95</td>\n",
       "      <td>133567.9</td>\n",
       "    </tr>\n",
       "    <tr>\n",
       "      <th>3</th>\n",
       "      <td>77798.83</td>\n",
       "      <td>72911.8</td>\n",
       "    </tr>\n",
       "    <tr>\n",
       "      <th>4</th>\n",
       "      <td>191050.39</td>\n",
       "      <td>179627.9</td>\n",
       "    </tr>\n",
       "    <tr>\n",
       "      <th>5</th>\n",
       "      <td>105008.31</td>\n",
       "      <td>115166.6</td>\n",
       "    </tr>\n",
       "    <tr>\n",
       "      <th>6</th>\n",
       "      <td>81229.06</td>\n",
       "      <td>67113.6</td>\n",
       "    </tr>\n",
       "    <tr>\n",
       "      <th>7</th>\n",
       "      <td>97483.56</td>\n",
       "      <td>98154.8</td>\n",
       "    </tr>\n",
       "    <tr>\n",
       "      <th>8</th>\n",
       "      <td>110352.25</td>\n",
       "      <td>114756.1</td>\n",
       "    </tr>\n",
       "    <tr>\n",
       "      <th>9</th>\n",
       "      <td>166187.94</td>\n",
       "      <td>169064.0</td>\n",
       "    </tr>\n",
       "  </tbody>\n",
       "</table>\n",
       "</div>"
      ],
      "text/plain": [
       "   Original Profit  Predict Profit\n",
       "0        103282.38        103901.9\n",
       "1        144259.40        132763.1\n",
       "2        146121.95        133567.9\n",
       "3         77798.83         72911.8\n",
       "4        191050.39        179627.9\n",
       "5        105008.31        115166.6\n",
       "6         81229.06         67113.6\n",
       "7         97483.56         98154.8\n",
       "8        110352.25        114756.1\n",
       "9        166187.94        169064.0"
      ]
     },
     "execution_count": 11,
     "metadata": {},
     "output_type": "execute_result"
    }
   ],
   "source": [
    "y_pred=regressor.predict(X_test).round(1)\n",
    "calculation=pd.DataFrame(np.c_[y_test,y_pred],columns=[\"Original Profit\",\"Predict Profit\"])\n",
    "calculation.head(10)"
   ]
  },
  {
   "cell_type": "code",
   "execution_count": 12,
   "id": "db084001",
   "metadata": {},
   "outputs": [
    {
     "name": "stdout",
     "output_type": "stream",
     "text": [
      "Öğrenme keskinliği :  0.9499572530324031\n",
      "Test keskinliği :  0.9393955917820569\n"
     ]
    }
   ],
   "source": [
    "print(\"Öğrenme keskinliği : \",regressor.score(X_train,y_train))\n",
    "print(\"Test keskinliği : \",regressor.score(X_test,y_test))"
   ]
  },
  {
   "cell_type": "code",
   "execution_count": 13,
   "id": "f6c2f582",
   "metadata": {},
   "outputs": [
    {
     "data": {
      "text/plain": [
       "42989.00816508666"
      ]
     },
     "execution_count": 13,
     "metadata": {},
     "output_type": "execute_result"
    }
   ],
   "source": [
    "regressor.intercept_"
   ]
  },
  {
   "cell_type": "code",
   "execution_count": 14,
   "id": "a8966757",
   "metadata": {},
   "outputs": [
    {
     "data": {
      "text/plain": [
       "array([0.77884104, 0.0293919 , 0.03471025])"
      ]
     },
     "execution_count": 14,
     "metadata": {},
     "output_type": "execute_result"
    }
   ],
   "source": [
    "regressor.coef_"
   ]
  },
  {
   "cell_type": "code",
   "execution_count": 19,
   "id": "35b16b6b",
   "metadata": {},
   "outputs": [],
   "source": [
    "#model test etme\n",
    "feature=[165349.20,136897.80,471784.10]\n",
    "scale_feature=scaler.transform([feature])\n"
   ]
  },
  {
   "cell_type": "code",
   "execution_count": 20,
   "id": "78247dc4",
   "metadata": {},
   "outputs": [
    {
     "data": {
      "text/plain": [
       "array([42990.66987463])"
      ]
     },
     "execution_count": 20,
     "metadata": {},
     "output_type": "execute_result"
    }
   ],
   "source": [
    "y_pred_test=regressor.predict(scale_feature)\n",
    "y_pred_test"
   ]
  },
  {
   "cell_type": "code",
   "execution_count": null,
   "id": "7269fe02",
   "metadata": {},
   "outputs": [],
   "source": []
  }
 ],
 "metadata": {
  "kernelspec": {
   "display_name": "Python 3",
   "language": "python",
   "name": "python3"
  },
  "language_info": {
   "codemirror_mode": {
    "name": "ipython",
    "version": 3
   },
   "file_extension": ".py",
   "mimetype": "text/x-python",
   "name": "python",
   "nbconvert_exporter": "python",
   "pygments_lexer": "ipython3",
   "version": "3.8.8"
  }
 },
 "nbformat": 4,
 "nbformat_minor": 5
}
